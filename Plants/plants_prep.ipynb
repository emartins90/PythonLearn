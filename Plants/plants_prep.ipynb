{
 "cells": [
  {
   "cell_type": "markdown",
   "metadata": {},
   "source": [
    "# Data Preparation for iNaturalist Data Analysis"
   ]
  },
  {
   "cell_type": "code",
   "execution_count": 143,
   "metadata": {},
   "outputs": [],
   "source": [
    "# Required Imports\n",
    "import pandas as pd"
   ]
  },
  {
   "cell_type": "code",
   "execution_count": 144,
   "metadata": {},
   "outputs": [],
   "source": [
    "# Loading Data\n",
    "obs = pd.read_csv('Data/plant_observations.csv', parse_dates=['observed_on'])\n",
    "location = pd.read_csv('Data/geocoded_locations.csv')\n",
    "invasives = pd.read_csv('Data/invasive_species.csv')\n",
    "arche_native = pd.read_csv('Data/archewild_natives_cleaned.csv')\n",
    "city_density = pd.read_csv('Data/us-cities-table.csv')"
   ]
  },
  {
   "cell_type": "code",
   "execution_count": 145,
   "metadata": {},
   "outputs": [
    {
     "name": "stdout",
     "output_type": "stream",
     "text": [
      "<class 'pandas.core.frame.DataFrame'>\n",
      "RangeIndex: 10000 entries, 0 to 9999\n",
      "Data columns (total 10 columns):\n",
      " #   Column                 Non-Null Count  Dtype         \n",
      "---  ------                 --------------  -----         \n",
      " 0   id                     10000 non-null  object        \n",
      " 1   species                10000 non-null  object        \n",
      " 2   common_name            10000 non-null  object        \n",
      " 3   observed_on            10000 non-null  datetime64[ns]\n",
      " 4   latitude               10000 non-null  float64       \n",
      " 5   longitude              10000 non-null  float64       \n",
      " 6   location               10000 non-null  object        \n",
      " 7   quality_grade          10000 non-null  object        \n",
      " 8   captive                10000 non-null  bool          \n",
      " 9   identifications_count  10000 non-null  int64         \n",
      "dtypes: bool(1), datetime64[ns](1), float64(2), int64(1), object(5)\n",
      "memory usage: 713.0+ KB\n",
      "None\n"
     ]
    }
   ],
   "source": [
    "# Drop columns where all are all Null/False and columns with unnecessary data (Place Guess)\n",
    "obs = obs.drop(columns=['native', 'most_disagree', 'place_guess'])\n",
    "\n",
    "# Ensure correct data types\n",
    "obs['id'] = obs['id'].astype(object)\n",
    "\n",
    "# Drop duplicates\n",
    "location = location.drop_duplicates(subset=['latitude', 'longitude'])\n",
    "\n",
    "# Duplicate data for observation data will be ignored. \n",
    "## It is impossible to know if its the exact same plant being identified repeatedly or if there are multiple plants in the area being idenfited separately.\n",
    "\n",
    "print(obs.info())"
   ]
  },
  {
   "cell_type": "code",
   "execution_count": 146,
   "metadata": {},
   "outputs": [
    {
     "name": "stdout",
     "output_type": "stream",
     "text": [
      "<class 'pandas.core.frame.DataFrame'>\n",
      "RangeIndex: 829 entries, 0 to 828\n",
      "Data columns (total 2 columns):\n",
      " #   Column           Non-Null Count  Dtype \n",
      "---  ------           --------------  ----- \n",
      " 0   Scientific Name  829 non-null    object\n",
      " 1   Common Name      829 non-null    object\n",
      "dtypes: object(2)\n",
      "memory usage: 13.1+ KB\n",
      "None\n"
     ]
    }
   ],
   "source": [
    "print(arche_native.info())"
   ]
  },
  {
   "cell_type": "code",
   "execution_count": 147,
   "metadata": {},
   "outputs": [
    {
     "name": "stdout",
     "output_type": "stream",
     "text": [
      "<class 'pandas.core.frame.DataFrame'>\n",
      "RangeIndex: 63 entries, 0 to 62\n",
      "Data columns (total 3 columns):\n",
      " #   Column           Non-Null Count  Dtype \n",
      "---  ------           --------------  ----- \n",
      " 0   number           63 non-null     int64 \n",
      " 1   scientific_name  63 non-null     object\n",
      " 2   common_name      63 non-null     object\n",
      "dtypes: int64(1), object(2)\n",
      "memory usage: 1.6+ KB\n",
      "None\n"
     ]
    }
   ],
   "source": [
    "print(invasives.info())"
   ]
  },
  {
   "cell_type": "markdown",
   "metadata": {},
   "source": [
    "### Standardizing Species \n",
    "The observations and native plants dataframes have slightly different formatting and level of specificity in their species names. \n",
    "- First, I convert both to first letter to capitalized and remaining to lowercase. \n",
    "- Then, I separate iNaturalist observations into two separate dataframes - those that report specific species and those that only report the family. \n",
    "    - I will focus on specific species when checking for nativeness."
   ]
  },
  {
   "cell_type": "code",
   "execution_count": 148,
   "metadata": {},
   "outputs": [],
   "source": [
    "# Normalize Species - Case\n",
    "obs['species'] = obs['species'].str.capitalize()\n",
    "obs['common_name'] = obs['common_name'].str.capitalize()\n",
    "\n",
    "arche_native['Scientific Name'].str.capitalize()\n",
    "\n",
    "# Separate out by species specificity. Hybrids, identified by and × symbol, do not include the species. \n",
    "obs_has_species = obs[obs['species'].str.contains(' ') & ~obs['species'].str.contains(r'\\s[x×]\\s', regex=True)]\n",
    "obs_just_family = obs[~obs['species'].str.contains(' ') | obs['species'].str.contains(r'\\s[x×]\\s', regex=True)]\n",
    "\n",
    "obs_has_species = obs_has_species.copy() "
   ]
  },
  {
   "cell_type": "markdown",
   "metadata": {},
   "source": [
    "### Handling Species Varieties\n",
    "\n",
    "Some observations include specific varieties of the species, whereas the data source for native species does not include variety information. \n",
    "I will identify these species and manually check for nativeness in the USDA Plant Finder."
   ]
  },
  {
   "cell_type": "code",
   "execution_count": 149,
   "metadata": {},
   "outputs": [
    {
     "name": "stdout",
     "output_type": "stream",
     "text": [
      "['Hedera helix helix' 'Pteridium aquilinum latiusculum'\n",
      " 'Symphyotrichum racemosum subdumosum' 'Juniperus virginiana virginiana'\n",
      " 'Pelargonium graveolens citrosum' 'Cakile edentula lacustris'\n",
      " 'Silphium integrifolium integrifolium'\n",
      " 'Ampelopsis glandulosa brevipedunculata' 'Phytolacca americana americana']\n"
     ]
    }
   ],
   "source": [
    "obs_vars = obs_has_species[obs_has_species['species'].str.split().str.len() ==3]\n",
    "print(obs_vars['species'].unique())"
   ]
  },
  {
   "cell_type": "markdown",
   "metadata": {},
   "source": [
    "Of the 9 species identified in observations that include a specific native variety, none have other non-native varieties previously idenfified in the state. Therefore I will ignore varieties when flagging observations as native. \n",
    "\n",
    "However, it is important to note that some species that don't include variety and are tagged as native may have varieties that ARE non-native in the state. For example, Viburnum opulus americanum is native in Cuyahoga county while Viburnum opulus opulus is not (previously known information). However, we do not have information about specific varieties of Viburnum opulus in any dataset. "
   ]
  },
  {
   "cell_type": "markdown",
   "metadata": {},
   "source": [
    "### Merging Location Data"
   ]
  },
  {
   "cell_type": "code",
   "execution_count": 150,
   "metadata": {},
   "outputs": [],
   "source": [
    "obs_has_species = obs_has_species.merge(location, on=['longitude', 'latitude'])"
   ]
  },
  {
   "cell_type": "code",
   "execution_count": 151,
   "metadata": {},
   "outputs": [],
   "source": [
    "city_density = city_density.rename(columns={'city': 'City'})\n",
    "obs_has_species = obs_has_species.merge(city_density[['City', 'pop2024', 'densityMi', 'areaMi', 'park_acres', 'vacant_acres']], on='City')"
   ]
  },
  {
   "cell_type": "markdown",
   "metadata": {},
   "source": [
    "### Tagging Observations as Native"
   ]
  },
  {
   "cell_type": "code",
   "execution_count": 152,
   "metadata": {},
   "outputs": [
    {
     "data": {
      "text/html": [
       "<div>\n",
       "<style scoped>\n",
       "    .dataframe tbody tr th:only-of-type {\n",
       "        vertical-align: middle;\n",
       "    }\n",
       "\n",
       "    .dataframe tbody tr th {\n",
       "        vertical-align: top;\n",
       "    }\n",
       "\n",
       "    .dataframe thead th {\n",
       "        text-align: right;\n",
       "    }\n",
       "</style>\n",
       "<table border=\"1\" class=\"dataframe\">\n",
       "  <thead>\n",
       "    <tr style=\"text-align: right;\">\n",
       "      <th></th>\n",
       "      <th>id</th>\n",
       "      <th>species</th>\n",
       "      <th>common_name</th>\n",
       "      <th>observed_on</th>\n",
       "      <th>latitude</th>\n",
       "      <th>longitude</th>\n",
       "      <th>location</th>\n",
       "      <th>quality_grade</th>\n",
       "      <th>captive</th>\n",
       "      <th>identifications_count</th>\n",
       "      <th>City</th>\n",
       "      <th>State</th>\n",
       "      <th>pop2024</th>\n",
       "      <th>densityMi</th>\n",
       "      <th>areaMi</th>\n",
       "      <th>park_acres</th>\n",
       "      <th>vacant_acres</th>\n",
       "      <th>native</th>\n",
       "    </tr>\n",
       "  </thead>\n",
       "  <tbody>\n",
       "    <tr>\n",
       "      <th>0</th>\n",
       "      <td>263098951</td>\n",
       "      <td>Rudbeckia hirta</td>\n",
       "      <td>Black-eyed susan</td>\n",
       "      <td>2025-02-25</td>\n",
       "      <td>41.472049</td>\n",
       "      <td>-81.555201</td>\n",
       "      <td>41.4720492438,-81.5552013741</td>\n",
       "      <td>needs_id</td>\n",
       "      <td>False</td>\n",
       "      <td>0</td>\n",
       "      <td>Shaker Heights</td>\n",
       "      <td>OH</td>\n",
       "      <td>28262</td>\n",
       "      <td>4492</td>\n",
       "      <td>6.291</td>\n",
       "      <td>262</td>\n",
       "      <td>135</td>\n",
       "      <td>True</td>\n",
       "    </tr>\n",
       "    <tr>\n",
       "      <th>2</th>\n",
       "      <td>262985952</td>\n",
       "      <td>Andropogon virginicus</td>\n",
       "      <td>Broomsedge bluestem</td>\n",
       "      <td>2025-02-24</td>\n",
       "      <td>41.521881</td>\n",
       "      <td>-81.575800</td>\n",
       "      <td>41.521880755,-81.575800118</td>\n",
       "      <td>research</td>\n",
       "      <td>False</td>\n",
       "      <td>0</td>\n",
       "      <td>East Cleveland</td>\n",
       "      <td>OH</td>\n",
       "      <td>13219</td>\n",
       "      <td>4288</td>\n",
       "      <td>3.083</td>\n",
       "      <td>197</td>\n",
       "      <td>329</td>\n",
       "      <td>True</td>\n",
       "    </tr>\n",
       "    <tr>\n",
       "      <th>3</th>\n",
       "      <td>262966456</td>\n",
       "      <td>Hamamelis virginiana</td>\n",
       "      <td>American witch-hazel</td>\n",
       "      <td>2025-02-24</td>\n",
       "      <td>41.377991</td>\n",
       "      <td>-81.865750</td>\n",
       "      <td>41.377991,-81.8657499</td>\n",
       "      <td>research</td>\n",
       "      <td>False</td>\n",
       "      <td>1</td>\n",
       "      <td>Berea</td>\n",
       "      <td>OH</td>\n",
       "      <td>17728</td>\n",
       "      <td>3121</td>\n",
       "      <td>5.680</td>\n",
       "      <td>458</td>\n",
       "      <td>257</td>\n",
       "      <td>True</td>\n",
       "    </tr>\n",
       "    <tr>\n",
       "      <th>9</th>\n",
       "      <td>262731541</td>\n",
       "      <td>Polystichum acrostichoides</td>\n",
       "      <td>Christmas fern</td>\n",
       "      <td>2025-02-22</td>\n",
       "      <td>41.390063</td>\n",
       "      <td>-81.545372</td>\n",
       "      <td>41.3900633333,-81.5453716667</td>\n",
       "      <td>research</td>\n",
       "      <td>False</td>\n",
       "      <td>0</td>\n",
       "      <td>Bedford</td>\n",
       "      <td>OH</td>\n",
       "      <td>12650</td>\n",
       "      <td>2368</td>\n",
       "      <td>5.342</td>\n",
       "      <td>631</td>\n",
       "      <td>349</td>\n",
       "      <td>True</td>\n",
       "    </tr>\n",
       "    <tr>\n",
       "      <th>11</th>\n",
       "      <td>262721128</td>\n",
       "      <td>Carya cordiformis</td>\n",
       "      <td>Bitternut hickory</td>\n",
       "      <td>2025-02-21</td>\n",
       "      <td>41.409979</td>\n",
       "      <td>-81.883491</td>\n",
       "      <td>41.4099794,-81.8834911</td>\n",
       "      <td>needs_id</td>\n",
       "      <td>False</td>\n",
       "      <td>0</td>\n",
       "      <td>North Olmsted</td>\n",
       "      <td>OH</td>\n",
       "      <td>31258</td>\n",
       "      <td>2678</td>\n",
       "      <td>11.673</td>\n",
       "      <td>807</td>\n",
       "      <td>375</td>\n",
       "      <td>True</td>\n",
       "    </tr>\n",
       "  </tbody>\n",
       "</table>\n",
       "</div>"
      ],
      "text/plain": [
       "           id                     species           common_name observed_on  \\\n",
       "0   263098951             Rudbeckia hirta      Black-eyed susan  2025-02-25   \n",
       "2   262985952       Andropogon virginicus   Broomsedge bluestem  2025-02-24   \n",
       "3   262966456        Hamamelis virginiana  American witch-hazel  2025-02-24   \n",
       "9   262731541  Polystichum acrostichoides        Christmas fern  2025-02-22   \n",
       "11  262721128           Carya cordiformis     Bitternut hickory  2025-02-21   \n",
       "\n",
       "     latitude  longitude                      location quality_grade  captive  \\\n",
       "0   41.472049 -81.555201  41.4720492438,-81.5552013741      needs_id    False   \n",
       "2   41.521881 -81.575800    41.521880755,-81.575800118      research    False   \n",
       "3   41.377991 -81.865750         41.377991,-81.8657499      research    False   \n",
       "9   41.390063 -81.545372  41.3900633333,-81.5453716667      research    False   \n",
       "11  41.409979 -81.883491        41.4099794,-81.8834911      needs_id    False   \n",
       "\n",
       "    identifications_count            City State  pop2024  densityMi  areaMi  \\\n",
       "0                       0  Shaker Heights    OH    28262       4492   6.291   \n",
       "2                       0  East Cleveland    OH    13219       4288   3.083   \n",
       "3                       1           Berea    OH    17728       3121   5.680   \n",
       "9                       0         Bedford    OH    12650       2368   5.342   \n",
       "11                      0   North Olmsted    OH    31258       2678  11.673   \n",
       "\n",
       "    park_acres  vacant_acres  native  \n",
       "0          262           135    True  \n",
       "2          197           329    True  \n",
       "3          458           257    True  \n",
       "9          631           349    True  \n",
       "11         807           375    True  "
      ]
     },
     "metadata": {},
     "output_type": "display_data"
    }
   ],
   "source": [
    "def first_two_words(name):\n",
    "    return \" \".join(name.split()[:2])  # Get the species without the variety\n",
    "\n",
    "obs_has_species['native'] = obs_has_species['species'].apply(lambda x: first_two_words(x) in set(arche_native['Scientific Name']))\n",
    "\n",
    "# Confirm native plants marked properly \n",
    "display(obs_has_species[obs_has_species['native'] == True].head())"
   ]
  },
  {
   "cell_type": "markdown",
   "metadata": {},
   "source": [
    "### Tagging Observations as Invasive"
   ]
  },
  {
   "cell_type": "code",
   "execution_count": 153,
   "metadata": {},
   "outputs": [
    {
     "data": {
      "text/html": [
       "<div>\n",
       "<style scoped>\n",
       "    .dataframe tbody tr th:only-of-type {\n",
       "        vertical-align: middle;\n",
       "    }\n",
       "\n",
       "    .dataframe tbody tr th {\n",
       "        vertical-align: top;\n",
       "    }\n",
       "\n",
       "    .dataframe thead th {\n",
       "        text-align: right;\n",
       "    }\n",
       "</style>\n",
       "<table border=\"1\" class=\"dataframe\">\n",
       "  <thead>\n",
       "    <tr style=\"text-align: right;\">\n",
       "      <th></th>\n",
       "      <th>id</th>\n",
       "      <th>species</th>\n",
       "      <th>common_name</th>\n",
       "      <th>observed_on</th>\n",
       "      <th>latitude</th>\n",
       "      <th>longitude</th>\n",
       "      <th>location</th>\n",
       "      <th>quality_grade</th>\n",
       "      <th>captive</th>\n",
       "      <th>identifications_count</th>\n",
       "      <th>City</th>\n",
       "      <th>State</th>\n",
       "      <th>pop2024</th>\n",
       "      <th>densityMi</th>\n",
       "      <th>areaMi</th>\n",
       "      <th>park_acres</th>\n",
       "      <th>vacant_acres</th>\n",
       "      <th>native</th>\n",
       "      <th>invasive</th>\n",
       "    </tr>\n",
       "  </thead>\n",
       "  <tbody>\n",
       "    <tr>\n",
       "      <th>90</th>\n",
       "      <td>259271340</td>\n",
       "      <td>Rhamnus cathartica</td>\n",
       "      <td>Common buckthorn</td>\n",
       "      <td>2025-01-22</td>\n",
       "      <td>41.348929</td>\n",
       "      <td>-81.841252</td>\n",
       "      <td>41.3489290113,-81.8412520877</td>\n",
       "      <td>needs_id</td>\n",
       "      <td>False</td>\n",
       "      <td>0</td>\n",
       "      <td>Strongsville</td>\n",
       "      <td>OH</td>\n",
       "      <td>45206</td>\n",
       "      <td>1836</td>\n",
       "      <td>24.622</td>\n",
       "      <td>2511</td>\n",
       "      <td>1306</td>\n",
       "      <td>False</td>\n",
       "      <td>True</td>\n",
       "    </tr>\n",
       "    <tr>\n",
       "      <th>102</th>\n",
       "      <td>258409269</td>\n",
       "      <td>Lonicera japonica</td>\n",
       "      <td>Japanese honeysuckle</td>\n",
       "      <td>2025-01-13</td>\n",
       "      <td>41.430565</td>\n",
       "      <td>-81.662750</td>\n",
       "      <td>41.4305649,-81.6627502</td>\n",
       "      <td>research</td>\n",
       "      <td>False</td>\n",
       "      <td>0</td>\n",
       "      <td>Cuyahoga Heights</td>\n",
       "      <td>OH</td>\n",
       "      <td>548</td>\n",
       "      <td>179</td>\n",
       "      <td>3.070</td>\n",
       "      <td>314</td>\n",
       "      <td>421</td>\n",
       "      <td>False</td>\n",
       "      <td>True</td>\n",
       "    </tr>\n",
       "    <tr>\n",
       "      <th>139</th>\n",
       "      <td>257189948</td>\n",
       "      <td>Ailanthus altissima</td>\n",
       "      <td>Tree-of-heaven</td>\n",
       "      <td>2024-09-21</td>\n",
       "      <td>41.465755</td>\n",
       "      <td>-81.565637</td>\n",
       "      <td>41.465755,-81.5656366667</td>\n",
       "      <td>research</td>\n",
       "      <td>False</td>\n",
       "      <td>0</td>\n",
       "      <td>Shaker Heights</td>\n",
       "      <td>OH</td>\n",
       "      <td>28262</td>\n",
       "      <td>4492</td>\n",
       "      <td>6.291</td>\n",
       "      <td>262</td>\n",
       "      <td>135</td>\n",
       "      <td>False</td>\n",
       "      <td>True</td>\n",
       "    </tr>\n",
       "    <tr>\n",
       "      <th>141</th>\n",
       "      <td>257162152</td>\n",
       "      <td>Alliaria petiolata</td>\n",
       "      <td>Garlic mustard</td>\n",
       "      <td>2025-01-02</td>\n",
       "      <td>41.313794</td>\n",
       "      <td>-81.595131</td>\n",
       "      <td>41.3137944444,-81.5951305556</td>\n",
       "      <td>research</td>\n",
       "      <td>False</td>\n",
       "      <td>1</td>\n",
       "      <td>Brecksville</td>\n",
       "      <td>OH</td>\n",
       "      <td>13922</td>\n",
       "      <td>716</td>\n",
       "      <td>19.448</td>\n",
       "      <td>4531</td>\n",
       "      <td>1306</td>\n",
       "      <td>False</td>\n",
       "      <td>True</td>\n",
       "    </tr>\n",
       "    <tr>\n",
       "      <th>143</th>\n",
       "      <td>257162083</td>\n",
       "      <td>Rosa multiflora</td>\n",
       "      <td>Multiflora rose</td>\n",
       "      <td>2025-01-02</td>\n",
       "      <td>41.313822</td>\n",
       "      <td>-81.595164</td>\n",
       "      <td>41.3138222222,-81.5951638889</td>\n",
       "      <td>research</td>\n",
       "      <td>False</td>\n",
       "      <td>1</td>\n",
       "      <td>Brecksville</td>\n",
       "      <td>OH</td>\n",
       "      <td>13922</td>\n",
       "      <td>716</td>\n",
       "      <td>19.448</td>\n",
       "      <td>4531</td>\n",
       "      <td>1306</td>\n",
       "      <td>False</td>\n",
       "      <td>True</td>\n",
       "    </tr>\n",
       "  </tbody>\n",
       "</table>\n",
       "</div>"
      ],
      "text/plain": [
       "            id              species           common_name observed_on  \\\n",
       "90   259271340   Rhamnus cathartica      Common buckthorn  2025-01-22   \n",
       "102  258409269    Lonicera japonica  Japanese honeysuckle  2025-01-13   \n",
       "139  257189948  Ailanthus altissima        Tree-of-heaven  2024-09-21   \n",
       "141  257162152   Alliaria petiolata        Garlic mustard  2025-01-02   \n",
       "143  257162083      Rosa multiflora       Multiflora rose  2025-01-02   \n",
       "\n",
       "      latitude  longitude                      location quality_grade  \\\n",
       "90   41.348929 -81.841252  41.3489290113,-81.8412520877      needs_id   \n",
       "102  41.430565 -81.662750        41.4305649,-81.6627502      research   \n",
       "139  41.465755 -81.565637      41.465755,-81.5656366667      research   \n",
       "141  41.313794 -81.595131  41.3137944444,-81.5951305556      research   \n",
       "143  41.313822 -81.595164  41.3138222222,-81.5951638889      research   \n",
       "\n",
       "     captive  identifications_count              City State  pop2024  \\\n",
       "90     False                      0      Strongsville    OH    45206   \n",
       "102    False                      0  Cuyahoga Heights    OH      548   \n",
       "139    False                      0    Shaker Heights    OH    28262   \n",
       "141    False                      1       Brecksville    OH    13922   \n",
       "143    False                      1       Brecksville    OH    13922   \n",
       "\n",
       "     densityMi  areaMi  park_acres  vacant_acres  native  invasive  \n",
       "90        1836  24.622        2511          1306   False      True  \n",
       "102        179   3.070         314           421   False      True  \n",
       "139       4492   6.291         262           135   False      True  \n",
       "141        716  19.448        4531          1306   False      True  \n",
       "143        716  19.448        4531          1306   False      True  "
      ]
     },
     "metadata": {},
     "output_type": "display_data"
    }
   ],
   "source": [
    "obs_has_species['invasive'] = obs_has_species['species'].apply(lambda x: first_two_words(x) in set(invasives['scientific_name']))\n",
    "\n",
    "display(obs_has_species[obs_has_species['invasive'] == True].head())"
   ]
  },
  {
   "cell_type": "markdown",
   "metadata": {},
   "source": [
    "### Manual Tagging"
   ]
  },
  {
   "cell_type": "markdown",
   "metadata": {},
   "source": [
    "The dataset for native plants, while extensive, is not exhaustive. Known native species (as confirmed by USDA Plant Finder) will be manually tagged as native when discovered. "
   ]
  },
  {
   "cell_type": "code",
   "execution_count": 154,
   "metadata": {},
   "outputs": [],
   "source": [
    "obs_has_species.loc[obs_has_species['species'] == 'Impatiens capensis', 'native'] = True\n",
    "obs_has_species.loc[obs_has_species['species'] == 'Impatiens pallida', 'native'] = True\n",
    "obs_has_species.loc[obs_has_species['species'] == 'Pinus strobus', 'native'] = True\n",
    "obs_has_species.loc[obs_has_species['species'] == 'Cercis canadensis', 'native'] = True\n",
    "obs_has_species.loc[obs_has_species['species'] == 'Conoclinium coelestinum', 'native'] = True\n",
    "obs_has_species.loc[obs_has_species['species'] == 'Persicaria virginiana', 'native'] = True\n",
    "obs_has_species.loc[obs_has_species['species'] == 'Eutrochium fistulosum', 'native'] = True\n",
    "\n",
    "\n",
    "\n"
   ]
  },
  {
   "cell_type": "markdown",
   "metadata": {},
   "source": [
    "### Final Dataset Check"
   ]
  },
  {
   "cell_type": "code",
   "execution_count": 155,
   "metadata": {},
   "outputs": [
    {
     "name": "stdout",
     "output_type": "stream",
     "text": [
      "<class 'pandas.core.frame.DataFrame'>\n",
      "RangeIndex: 7632 entries, 0 to 7631\n",
      "Data columns (total 19 columns):\n",
      " #   Column                 Non-Null Count  Dtype         \n",
      "---  ------                 --------------  -----         \n",
      " 0   id                     7632 non-null   object        \n",
      " 1   species                7632 non-null   object        \n",
      " 2   common_name            7632 non-null   object        \n",
      " 3   observed_on            7632 non-null   datetime64[ns]\n",
      " 4   latitude               7632 non-null   float64       \n",
      " 5   longitude              7632 non-null   float64       \n",
      " 6   location               7632 non-null   object        \n",
      " 7   quality_grade          7632 non-null   object        \n",
      " 8   captive                7632 non-null   bool          \n",
      " 9   identifications_count  7632 non-null   int64         \n",
      " 10  City                   7632 non-null   object        \n",
      " 11  State                  7632 non-null   object        \n",
      " 12  pop2024                7632 non-null   int64         \n",
      " 13  densityMi              7632 non-null   int64         \n",
      " 14  areaMi                 7632 non-null   float64       \n",
      " 15  park_acres             7632 non-null   int64         \n",
      " 16  vacant_acres           7632 non-null   int64         \n",
      " 17  native                 7632 non-null   bool          \n",
      " 18  invasive               7632 non-null   bool          \n",
      "dtypes: bool(3), datetime64[ns](1), float64(3), int64(5), object(7)\n",
      "memory usage: 976.5+ KB\n",
      "None\n"
     ]
    }
   ],
   "source": [
    "print(obs_has_species.info())"
   ]
  },
  {
   "cell_type": "code",
   "execution_count": 156,
   "metadata": {},
   "outputs": [],
   "source": [
    "obs_has_species.to_csv('obs_species.csv')"
   ]
  }
 ],
 "metadata": {
  "kernelspec": {
   "display_name": ".venv",
   "language": "python",
   "name": "python3"
  },
  "language_info": {
   "codemirror_mode": {
    "name": "ipython",
    "version": 3
   },
   "file_extension": ".py",
   "mimetype": "text/x-python",
   "name": "python",
   "nbconvert_exporter": "python",
   "pygments_lexer": "ipython3",
   "version": "3.13.1"
  }
 },
 "nbformat": 4,
 "nbformat_minor": 2
}
